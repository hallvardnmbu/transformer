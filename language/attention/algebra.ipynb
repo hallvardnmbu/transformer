{
 "cells": [
  {
   "cell_type": "code",
   "execution_count": 1,
   "id": "initial_id",
   "metadata": {
    "collapsed": true,
    "ExecuteTime": {
     "end_time": "2024-04-04T09:23:37.079433Z",
     "start_time": "2024-04-04T09:23:36.078567Z"
    }
   },
   "outputs": [],
   "source": [
    "import torch"
   ]
  },
  {
   "cell_type": "markdown",
   "source": [
    "Initializing random input and weight matrices of given shape."
   ],
   "metadata": {
    "collapsed": false
   },
   "id": "f8bbfff7aec0099f"
  },
  {
   "cell_type": "code",
   "outputs": [],
   "source": [
    "SHAPE = 5\n",
    "\n",
    "X = torch.tril(torch.rand(SHAPE, SHAPE))\n",
    "\n",
    "W_Q = torch.rand(SHAPE, SHAPE)\n",
    "W_K = torch.rand(SHAPE, SHAPE)\n",
    "W_V = torch.rand(SHAPE, SHAPE)"
   ],
   "metadata": {
    "collapsed": false,
    "ExecuteTime": {
     "end_time": "2024-04-04T09:23:37.084524Z",
     "start_time": "2024-04-04T09:23:37.080498Z"
    }
   },
   "id": "1676c476ecac7fe8",
   "execution_count": 2
  },
  {
   "cell_type": "markdown",
   "source": [
    "# Vector form of self-attention\n",
    "\n",
    "In order to avoid needing for-loops, the matrix representations of K and V are used directly."
   ],
   "metadata": {
    "collapsed": false
   },
   "id": "e59ebd999bcebd98"
  },
  {
   "cell_type": "code",
   "outputs": [
    {
     "data": {
      "text/plain": "tensor([1.6607, 1.4631, 0.9713, 0.8167, 0.7066])"
     },
     "metadata": {},
     "output_type": "display_data"
    }
   ],
   "source": [
    "x = X[-1]\n",
    "\n",
    "q = x @ W_Q\n",
    "K = X @ W_K\n",
    "V = X @ W_V\n",
    "\n",
    "score = q @ K.T\n",
    "score /= torch.sqrt(torch.tensor(K.size(-1)))\n",
    "soft = torch.softmax(score, dim=-1)\n",
    "att = soft @ V\n",
    "\n",
    "display(att)"
   ],
   "metadata": {
    "collapsed": false,
    "ExecuteTime": {
     "end_time": "2024-04-04T09:23:37.091127Z",
     "start_time": "2024-04-04T09:23:37.085399Z"
    }
   },
   "id": "76e20fae50e50e58",
   "execution_count": 3
  },
  {
   "cell_type": "markdown",
   "source": [
    "# Matrix form of self-attention"
   ],
   "metadata": {
    "collapsed": false
   },
   "id": "378c25e68f81c268"
  },
  {
   "cell_type": "code",
   "outputs": [
    {
     "data": {
      "text/plain": "tensor([[0.7066, 0.6848, 0.1603, 0.1207, 0.2009],\n        [0.4379, 0.4328, 0.1446, 0.0899, 0.1171],\n        [0.8278, 0.7745, 0.5111, 0.5478, 0.4969],\n        [1.6262, 1.4999, 0.8421, 0.6850, 0.5161],\n        [1.6607, 1.4631, 0.9713, 0.8167, 0.7066]])"
     },
     "metadata": {},
     "output_type": "display_data"
    }
   ],
   "source": [
    "Q = X @ W_Q\n",
    "K = X @ W_K\n",
    "V = X @ W_V\n",
    "\n",
    "SCORE = Q @ K.T\n",
    "SCORE /= torch.sqrt(torch.tensor(K.size(-1)))\n",
    "SCORE = SCORE.masked_fill(torch.tril(torch.ones(SHAPE, SHAPE)) == 0, float('-inf'))\n",
    "SOFT = torch.softmax(SCORE, dim=-1)\n",
    "\n",
    "ATT = SOFT @ V\n",
    "\n",
    "display(ATT)"
   ],
   "metadata": {
    "collapsed": false,
    "ExecuteTime": {
     "end_time": "2024-04-04T09:23:37.095553Z",
     "start_time": "2024-04-04T09:23:37.092042Z"
    }
   },
   "id": "8ad3eb52c7274bc7",
   "execution_count": 4
  },
  {
   "cell_type": "markdown",
   "source": [
    "# Validating that they are the same"
   ],
   "metadata": {
    "collapsed": false
   },
   "id": "68b2c2d6bf7d39ee"
  },
  {
   "cell_type": "code",
   "outputs": [
    {
     "data": {
      "text/plain": "True"
     },
     "execution_count": 5,
     "metadata": {},
     "output_type": "execute_result"
    }
   ],
   "source": [
    "all(ATT[-1] == att)"
   ],
   "metadata": {
    "collapsed": false,
    "ExecuteTime": {
     "end_time": "2024-04-04T09:23:37.099534Z",
     "start_time": "2024-04-04T09:23:37.097206Z"
    }
   },
   "id": "5d5b6d57b339b7ee",
   "execution_count": 5
  }
 ],
 "metadata": {
  "kernelspec": {
   "display_name": "Python 3",
   "language": "python",
   "name": "python3"
  },
  "language_info": {
   "codemirror_mode": {
    "name": "ipython",
    "version": 2
   },
   "file_extension": ".py",
   "mimetype": "text/x-python",
   "name": "python",
   "nbconvert_exporter": "python",
   "pygments_lexer": "ipython2",
   "version": "2.7.6"
  }
 },
 "nbformat": 4,
 "nbformat_minor": 5
}
