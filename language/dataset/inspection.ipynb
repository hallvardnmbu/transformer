{
 "cells": [
  {
   "metadata": {},
   "cell_type": "markdown",
   "source": "# Translation dataset between Norwegian Bokmål (nb) and Norwegian Nynorsk (nn)",
   "id": "1087778efe541cf7"
  },
  {
   "metadata": {},
   "cell_type": "markdown",
   "source": "MultiParaCrawl (v9) dataset downloaded from [opus](https://opus.nlpl.eu/MultiParaCrawl/nb&nn/v9b/MultiParaCrawl).",
   "id": "a1fc13e7ec153850"
  },
  {
   "cell_type": "code",
   "id": "initial_id",
   "metadata": {
    "collapsed": true,
    "ExecuteTime": {
     "end_time": "2024-04-13T15:58:51.049950Z",
     "start_time": "2024-04-13T15:58:51.002261Z"
    }
   },
   "source": [
    "nb = [_nb.strip() for _nb in open(\"MultiParaCrawl.nb\", \"r\").readlines()]\n",
    "nn = [_nn.strip() for _nn in open(\"MultiParaCrawl.nn\", \"r\").readlines()]"
   ],
   "outputs": [],
   "execution_count": 1
  },
  {
   "metadata": {
    "ExecuteTime": {
     "end_time": "2024-04-13T15:58:51.052980Z",
     "start_time": "2024-04-13T15:58:51.051109Z"
    }
   },
   "cell_type": "code",
   "source": [
    "print(f\"Størrelse\\n\"\n",
    "      f\" nb: {len(nb)} \\n\"\n",
    "      f\" nn: {len(nn)} \\n\"\n",
    "      f\" nb = nn: {True if len(nb) == len(nn) else False}\")"
   ],
   "id": "d0308666d2d04a0c",
   "outputs": [
    {
     "name": "stdout",
     "output_type": "stream",
     "text": [
      "Størrelse\n",
      " nb: 46732 \n",
      " nn: 46732 \n",
      " nb = nn: True\n"
     ]
    }
   ],
   "execution_count": 2
  },
  {
   "metadata": {
    "ExecuteTime": {
     "end_time": "2024-04-13T15:58:51.055169Z",
     "start_time": "2024-04-13T15:58:51.053644Z"
    }
   },
   "cell_type": "code",
   "source": [
    "print(f\"Eksempel\\n\"\n",
    "      f\" nb: {nb[15]} \\n\"\n",
    "      f\" nn: {nn[15]}\")"
   ],
   "id": "bfd57dc184c334a9",
   "outputs": [
    {
     "name": "stdout",
     "output_type": "stream",
     "text": [
      "Eksempel\n",
      " nb: Mario Kart 8 har motorsykler og kappkjøring for 12 sjåfører i likhet med Mario Kart Wii, i tillegg til hengefly, undervannkjøring og tilpassing av kjøretøyene fra Mario Kart 7. \n",
      " nn: Mario Kart 8 har motorsyklar og kappkøyring for 12 resarar i likskap med Mario Kart Wii, i tillegg til hengefly, undervasskøyring og tilpassinga av køyretøya frå Mario Kart 7.\n"
     ]
    }
   ],
   "execution_count": 3
  },
  {
   "metadata": {
    "ExecuteTime": {
     "end_time": "2024-04-13T15:58:51.057237Z",
     "start_time": "2024-04-13T15:58:51.055824Z"
    }
   },
   "cell_type": "code",
   "source": [
    "print(f\"Inneholder også 'feil'\\n\"\n",
    "      f\" nb: {nb[0]} \\n\"\n",
    "      f\" nn: {nn[0]}\")"
   ],
   "id": "af22eee92a1055aa",
   "outputs": [
    {
     "name": "stdout",
     "output_type": "stream",
     "text": [
      "Inneholder også 'feil'\n",
      " nb: Godkjente skrivemåter: Ståret (vedtatt av kommunen i 2004). \n",
      " nn: Godkjende skrivemåtar: Lavik (godkjend av kommunen i 1986).\n"
     ]
    }
   ],
   "execution_count": 4
  },
  {
   "metadata": {},
   "cell_type": "markdown",
   "source": "",
   "id": "6bb9eef90796dd14"
  },
  {
   "metadata": {},
   "cell_type": "markdown",
   "source": "## Tokenization",
   "id": "1749618a9ba152df"
  },
  {
   "metadata": {},
   "cell_type": "markdown",
   "source": [
    "Fit the BPE tokenizer on a subset of the concatenated text of both languages with a set vocabulary \n",
    "size."
   ],
   "id": "6bde12d58309a783"
  },
  {
   "metadata": {
    "ExecuteTime": {
     "end_time": "2024-04-13T15:58:51.068949Z",
     "start_time": "2024-04-13T15:58:51.058419Z"
    }
   },
   "cell_type": "code",
   "source": [
    "import sys\n",
    "sys.path.append(\"../\")\n",
    "from tokenization.bpe import RegexTokenizer  # noqa"
   ],
   "id": "138fed3ee92d8b06",
   "outputs": [],
   "execution_count": 5
  },
  {
   "metadata": {
    "ExecuteTime": {
     "end_time": "2024-04-13T15:59:22.301423Z",
     "start_time": "2024-04-13T15:58:51.069557Z"
    }
   },
   "cell_type": "code",
   "source": [
    "tokenizer = RegexTokenizer()\n",
    "\n",
    "tokenizer.train(text=nb[:250] + nn[:250], vocab_size=5000)"
   ],
   "id": "ebfb1cc077777242",
   "outputs": [],
   "execution_count": 6
  },
  {
   "metadata": {},
   "cell_type": "markdown",
   "source": "### Example tokenization",
   "id": "32c9ed09cc752dba"
  },
  {
   "metadata": {
    "ExecuteTime": {
     "end_time": "2024-04-13T15:59:22.305174Z",
     "start_time": "2024-04-13T15:59:22.302279Z"
    }
   },
   "cell_type": "code",
   "source": [
    "print(f\"Original\\n\"\n",
    "      f\" nb: {nb[0]} \\n\"\n",
    "      f\" nn: {nn[0]}\")\n",
    "\n",
    "print(f\"Tokenized\\n\"\n",
    "      f\" nb: {tokenizer.encode(nb[0])} \\n\"\n",
    "      f\" nn: {tokenizer.encode(nn[0])}\")\n",
    "\n",
    "print(f\"Detokenized\\n\"\n",
    "      f\" nb: {tokenizer.decode(tokenizer.encode(nb[0]))} \\n\"\n",
    "      f\" nn: {tokenizer.decode(tokenizer.encode(nn[0]))}\")"
   ],
   "id": "8c5ff7bee87b4224",
   "outputs": [
    {
     "name": "stdout",
     "output_type": "stream",
     "text": [
      "Original\n",
      " nb: Godkjente skrivemåter: Ståret (vedtatt av kommunen i 2004). \n",
      " nn: Godkjende skrivemåtar: Lavik (godkjend av kommunen i 1986).\n",
      "Tokenized\n",
      " nb: [4283, 971, 58, 4284, 360, 2159, 288, 726, 270, 32, 973, 52, 440] \n",
      " nn: [4282, 469, 1067, 58, 4099, 360, 1068, 288, 726, 270, 32, 822, 54, 440]\n",
      "Detokenized\n",
      " nb: Godkjente skrivemåter: Ståret (vedtatt av kommunen i 2004). \n",
      " nn: Godkjende skrivemåtar: Lavik (godkjend av kommunen i 1986).\n"
     ]
    }
   ],
   "execution_count": 7
  }
 ],
 "metadata": {
  "kernelspec": {
   "display_name": "Python 3",
   "language": "python",
   "name": "python3"
  },
  "language_info": {
   "codemirror_mode": {
    "name": "ipython",
    "version": 2
   },
   "file_extension": ".py",
   "mimetype": "text/x-python",
   "name": "python",
   "nbconvert_exporter": "python",
   "pygments_lexer": "ipython2",
   "version": "2.7.6"
  }
 },
 "nbformat": 4,
 "nbformat_minor": 5
}
