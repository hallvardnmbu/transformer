{
 "cells": [
  {
   "metadata": {},
   "cell_type": "markdown",
   "source": [
    "# Small version of the Don Quixote generative model\n",
    "\n",
    "Best-performing version.\n",
    "\n",
    "See `quixote-large` for a bigger version (stopped early during training)."
   ],
   "id": "a962c3b611627dd6"
  },
  {
   "metadata": {},
   "cell_type": "markdown",
   "source": [
    "Hyperparameters:\n",
    "```plaintext\n",
    "Hyperparameters(block_size=256, micro_steps=32, vocab_size=24540, n_layer=6, n_head=6, n_embd=384, dropout=0.2, bias=False, batch_size=64, epochs=5000, optimizer={'lr': 0.001, 'betas': (0.9, 0.99), 'eps': 1e-09}, scheduler={'decay_lr': True, 'warmup': 100, 'max': 5000, 'min_lr': 0.0001}, weight_decay=0.1, grad_clip=1.0, output_path='./output/', data_path='./dataset/quixote_oneline.txt', tokenizer={'path': None, 'bpe_path': './tokenization/tokenizer.model', 'k': None, 'special_symbols': {'[PAD]': 256, '[CLS]': 257, '[SEP]': 258}, 'vocab_size': 24540, 'tokenizer': None})\n",
    "```\n",
    "\n",
    "Transformer architecture:\n",
    "```plaintext\n",
    "GPT(\n",
    "  (transformer): ModuleDict(\n",
    "    (wte): Embedding(\n",
    "      (embedding): Embedding(24540, 384)\n",
    "    )\n",
    "    (wpe): Embedding(\n",
    "      (embedding): Embedding(256, 384)\n",
    "    )\n",
    "    (drop): Dropout(p=0.2, inplace=False)\n",
    "    (h): ModuleList(\n",
    "      (0-5): 6 x Block(\n",
    "        (ln_1): LayerNorm()\n",
    "        (attn): CausalSelfAttention(\n",
    "          (c_attn): Linear(in_features=384, out_features=1152, bias=False)\n",
    "          (c_proj): Linear(in_features=384, out_features=384, bias=False)\n",
    "          (attn_dropout): Dropout(p=0.2, inplace=False)\n",
    "          (resid_dropout): Dropout(p=0.2, inplace=False)\n",
    "        )\n",
    "        (ln_2): LayerNorm()\n",
    "        (mlp): MLP(\n",
    "          (c_fc): Linear(in_features=384, out_features=1536, bias=False)\n",
    "          (gelu): GELU(approximate='none')\n",
    "          (c_proj): Linear(in_features=1536, out_features=384, bias=False)\n",
    "          (dropout): Dropout(p=0.2, inplace=False)\n",
    "        )\n",
    "      )\n",
    "    )\n",
    "    (ln_f): LayerNorm()\n",
    "  )\n",
    "  (generator): Linear(in_features=384, out_features=24540, bias=False)\n",
    ")\n",
    "```\n",
    "\n",
    "Vocabulary size: 24540"
   ],
   "id": "6e66c6ffb12e5d7d"
  },
  {
   "cell_type": "code",
   "id": "initial_id",
   "metadata": {
    "collapsed": true,
    "ExecuteTime": {
     "end_time": "2024-04-19T18:45:32.910171Z",
     "start_time": "2024-04-19T18:45:31.611730Z"
    }
   },
   "source": [
    "import torch\n",
    "import pandas as pd\n",
    "\n",
    "import sys\n",
    "sys.path.append(\"..\")\n",
    "from quixote import Quixote"
   ],
   "execution_count": 1,
   "outputs": []
  },
  {
   "metadata": {
    "ExecuteTime": {
     "end_time": "2024-04-19T18:45:33.254420Z",
     "start_time": "2024-04-19T18:45:32.911180Z"
    }
   },
   "cell_type": "code",
   "source": [
    "loss = pd.read_csv('loss.csv', header=0, index_col=0)\n",
    "loss.index.name = f\"iteration ({8 * 4 * 256 * 64} training-tokens per iteration)\"\n",
    "loss.plot(y=\"train_loss\")"
   ],
   "id": "7a28af0ef85ea13a",
   "outputs": [
    {
     "data": {
      "text/plain": [
       "<Axes: xlabel='iteration (524288 training-tokens per iteration)'>"
      ]
     },
     "execution_count": 2,
     "metadata": {},
     "output_type": "execute_result"
    },
    {
     "data": {
      "text/plain": [
       "<Figure size 640x480 with 1 Axes>"
      ],
      "image/png": "[encoded data removed]"
     },
     "metadata": {},
     "output_type": "display_data"
    }
   ],
   "execution_count": 2
  },
  {
   "metadata": {
    "ExecuteTime": {
     "end_time": "2024-04-19T18:45:34.377260Z",
     "start_time": "2024-04-19T18:45:33.256875Z"
    }
   },
   "cell_type": "code",
   "source": [
    "models = {\n",
    "    \"2000\": torch.load(\"./model-2000.pth\", map_location=torch.device('cpu')),\n",
    "    \"3000\": torch.load(\"./model-3000.pth\", map_location=torch.device('cpu')),\n",
    "    \"4000\": torch.load(\"./model-4000.pth\", map_location=torch.device('cpu')),\n",
    "    \"5000\": torch.load(\"./model-5000.pth\", map_location=torch.device('cpu'))\n",
    "}\n",
    "for model in models.values():\n",
    "    model.config.device = \"cpu\""
   ],
   "id": "edc91851f4d5c722",
   "outputs": [],
   "execution_count": 3
  },
  {
   "metadata": {
    "ExecuteTime": {
     "end_time": "2024-04-19T18:45:34.388342Z",
     "start_time": "2024-04-19T18:45:34.386104Z"
    }
   },
   "cell_type": "code",
   "source": [
    "prompts = [\"“Here is the apple of which I spoke,” said Don Quixote,\",\n",
    "           \"“My name is Hallvard, and I'm a student.”\"]\n",
    "temperatures = [1.0, 0.8, 0.5]\n",
    "generate = 100\n",
    "top_k = None"
   ],
   "id": "fa2755a7754461fe",
   "outputs": [],
   "execution_count": 4
  },
  {
   "metadata": {
    "ExecuteTime": {
     "end_time": "2024-04-19T18:48:29.927232Z",
     "start_time": "2024-04-19T18:45:34.389035Z"
    }
   },
   "cell_type": "code",
   "source": [
    "for prompt in prompts:\n",
    "    print(f\"\\n\\033[91m Prompt:\\033[0m {prompt}\")\n",
    "    for temperature in temperatures:\n",
    "        print(f\"\\n\\033[91m Temperature:\\033[0m {temperature}\")\n",
    "        for which, model in models.items():\n",
    "            output = model(prompt, generate=generate, temperature=temperature, top_k=top_k)\n",
    "            print(f\"\\033[91m {which}:\\033[0m {output} ...\")"
   ],
   "id": "cc9b382662515280",
   "outputs": [
    {
     "name": "stdout",
     "output_type": "stream",
     "text": [
      "\n",
      "\u001B[91m Prompt:\u001B[0m “Here is the apple of which I spoke,” said Don Quixote,\n",
      "\n",
      "\u001B[91m Temperature:\u001B[0m 1.0\n",
      "\u001B[91m 2000:\u001B[0m “Here is the apple of which I spoke,” said Don Quixote, “is it rare and pat to the purpose that you would gladly feel something to eat and labour to judge’s pledge.’” “At any rate,” observed Sancho, “and I might tell you more time without waiting for quarrel, as far from your worship is next to be marjoram and neither got up.” “Now I, señora,” said the price, “for you value on a heap of me.” “I do not know not tell you, Sancho,” said the curate, “that you had not ...\n",
      "\u001B[91m 3000:\u001B[0m “Here is the apple of which I spoke,” said Don Quixote, “for I entreat you to call you your enemy to allow the expression of my own person in high degree, though I have a respect as my taste and at least to retain me, and support myself for even and even were it been the privilege of beauty to be breast without showing myself in the chaste fidelity of beauty;” and with great rage he began to weep bitterly, and with a heavy penalties upon them, that was prevented them from falling to arm and to fly. The duke came with a couple ...\n",
      "\u001B[91m 4000:\u001B[0m “Here is the apple of which I spoke,” said Don Quixote, “and I should not give crumbs to a cat, my wits are so confused and upset.” With this permission Sancho said to the peasants who stood clustered round him, waiting with open mouths for the decision to come from his, “Brothers, what the fat man requires is not in reason, nor has it a shadow of justice in it; because, as they say, if it be true, that the challenged may choose the weapons, the other has no right to choose such as will prevent and keep ...\n",
      "\u001B[91m 5000:\u001B[0m “Here is the apple of which I spoke,” said Don Quixote, “and I cannot call this service to you, no one or mine ever so great or divine as to be brought before God’s will.” “I am afraid of,” said Sancho, “but your worship will let me eat this evening or a cudgel, and not a squire’s curse.” Don Quixote was listening to all such good subjects, he took the cloth upon Sancho to carry on his heart as to his master; and so much to carry out the scrutiny he had made of them, and of ...\n",
      "\n",
      "\u001B[91m Temperature:\u001B[0m 0.8\n",
      "\u001B[91m 2000:\u001B[0m “Here is the apple of which I spoke,” said Don Quixote, “for those knocks on the head has been said, that you would not be valid, and even though it excited in a rich farmer to rise to each way, he resolved to go looking for someone to-day. Your servant was astonished to see whether the Knight of the Rueful Countenance, so loud that when he heard him speak from his knees and not a message from Montesinos, which the duke’s letter achieved, if so rationally that the duke and duchess were to hear them. Among the duke and duchess ...\n",
      "\u001B[91m 3000:\u001B[0m “Here is the apple of which I spoke,” said Don Quixote, “and I should not give infinite mercy of my eye, and the injury has been done to you;” and so saying he began to move from that position, and that time he might have been weary with the oath he had sworn falsely, and by the same law he swore to die on that he should return; and by the faith of what offences he was going to such a sorry business. He made right mind to know what Tom Cecial?” “How now, Sancho,” answered Don Quixote; “ ...\n",
      "\u001B[91m 4000:\u001B[0m “Here is the apple of which I spoke,” said Don Quixote, “for no one of the eye, and I he won’t give any pleasure in more favourable answer from the lady Dulcinea del Toboso, for it is to me of the way of endeavouring to become an emperor, or at least a monarch; for it had been so settled between them, and with his personal worth and the might of his arm it was an easy matter to come to be one: and how on becoming one his lord was to make a marriage for him (for he would be a widower ...\n",
      "\u001B[91m 5000:\u001B[0m “Here is the apple of which I spoke,” said Don Quixote, “and I cannot call myself fifth (which may be included in the end of your guest’s defence of my honour. To these five, as it were capital causes, there may be added some others that may be just and reasonable, and make it a duty to take up arms; but to take them up for trifles and things to laugh at and be amused by rather than offended, looks as though he who did so was altogether wanting in common sense. Moreover, to take an unjust revenge (and ...\n",
      "\n",
      "\u001B[91m Temperature:\u001B[0m 0.5\n",
      "\u001B[91m 2000:\u001B[0m “Here is the apple of which I spoke,” said Don Quixote, “if thou wilt not give it to me a beard of my poor, for I am not fit to give thee a punch that will leave my fist sunk in his skull; for cirimonies and soapings of this sort are more like jokes than the polite attentions of one’s host.” As soon as he was ready to die with his laughter; but Don Quixote to die with his laughter at his stirrups and pressed his morion; but, as has been said, he came out to him a couple of slaps on ...\n",
      "\u001B[91m 3000:\u001B[0m “Here is the apple of which I spoke,” said Don Quixote, “and I entreat you to go to rest assured that you are knights-errant to return to El Toboso and rest assured that he cannot lie closer in this castle; and if I am willing to condemn myself in however, let it pass over for this bed in costs little more than putting it over minute.” He approved of what Sancho proposed, and resolved to wait for him very anxious to follow him until he brought back. Sancho pushed on into the glens of the Sierra, leaving them in one through which there ...\n",
      "\u001B[91m 4000:\u001B[0m “Here is the apple of which I spoke,” said Don Quixote, “and I entreat you to open your eyes, for I shall not be able to make a moment in the apple of your highness’s eye, and I’d as soon stab myself as consent to it; for though my master says that in civilities it is better to lose by a card too many than a card too few, when it comes to civilities to asses we must mind what we are about and keep within due bounds.” “Take him to your government, Sancho,” said the duchess, “and ...\n",
      "\u001B[91m 5000:\u001B[0m “Here is the apple of which I spoke,” said Don Quixote, “for no one of my eye, and I cannot call it; but though in truth to be told, I ought not to be censured. The first is some words that I have read in the preface; the next that the language is Aragonese, for sometimes he writes without articles; and the third, which above all stamps him as ignorant, is that he goes wrong and departs from the truth in the most important part of the history, for here he says that my squire Sancho Panza’s wife is ...\n",
      "\n",
      "\u001B[91m Prompt:\u001B[0m “My name is Hallvard, and I'm a student.”\n",
      "\n",
      "\u001B[91m Temperature:\u001B[0m 1.0\n",
      "\u001B[91m 2000:\u001B[0m “My name is Hallvard, and I'm a student.” To which the duke made no answer, opening him in a strain he was making a very reverse of a person of rank. They called to him, and asked the curate if he had told them all to be strippedSancho, he found a question by breaking his mercies he listened to even if they had received of Clara.” On hearing these words received her of her face hastily and ran thus: “Ill luck betide thee, I swear heartily and compassion for thee, Sancho!” said Don Quixote, “Worthy ...\n",
      "\u001B[91m 3000:\u001B[0m “My name is Hallvard, and I'm a student.” “What are you perchance?” said Don Quixote. “What, being entirely,” replied Sancho, “your worship is to blame for you left buried (for I never saw a head of it), and went back to the ass was not very fond of him, as he can be always natural and proper to know when he calls himself, protects and prizes a famous castle of famous as you are caught in the noose of fineness, it is one of envy itself, and the twelve more exposed himself to the ...\n",
      "\u001B[91m 4000:\u001B[0m “My name is Hallvard, and I'm a student.” With this the words Don Quixote turned his pike to Sancho and said to him, “It is my belief, señor, that I suppose the ass was born to be found me take a tavern, and not on the grandest occasion the past or present has seen, or the future can hope to see. If my wounds have no beauty to the beholder’s eye, they are, at least, honourable in the estimation of those who know where they were received; for the soldier shows to greater advantage dead in ...\n",
      "\u001B[91m 5000:\u001B[0m “My name is Hallvard, and I'm a student.” With this permission Sancho made him, and he pacified his master and urging him earnestly to accompany him. The bachelor, to accompany him, and they at having ordered him to accompany him whither Don Quixote, took him; and their departure, Sancho afterwards answered very much the reply, Don Quixote asked the servants who were all earnestly and in the Moorish lady’s father’s house, as they were not a Christian gentleman who had been seen by this time. “Anything else, Christian, I might hope for or ...\n",
      "\n",
      "\u001B[91m Temperature:\u001B[0m 0.8\n",
      "\u001B[91m 2000:\u001B[0m “My name is Hallvard, and I'm a student.” “And yet, mother,” said Don Quixote, “and I do not mean to be able to do any squire that has carried him away from some oak-galls show; for the peerless Clavileño the pair of those that direct male and not very gravely and solemnly as solemnly as fair lady, “Worthy duenna, only enjoin hand ye cannibals;” and not open your feet to her hands, but only open your eyes? But I will only so hold your mouth, shall only open your eyes and let her all ...\n",
      "\u001B[91m 3000:\u001B[0m “My name is Hallvard, and I'm a student.” “Well, sirs,” said Don Quixote, “but you see how worthy folk have never brought you to this minute, for if they did not open a lips or even—but never mind—it only thing it occurs to me that I say when they say of the blow of the stone.” “I swear to thee!” said Sancho Panza. “that now seated on the pack-saddle softer than a tie it to a tree, and with a couple of dozen carobs and as many more filberts and walnuts; thanks ...\n",
      "\u001B[91m 4000:\u001B[0m “My name is Hallvard, and I'm a student.” “That is the true,” said Don Quixote; “say what thou wilt, only say, then?” “Well, here I have another mole on the middle of your backbone, which is the mark of a strong man.” “That is enough,” said Sancho; “for with friends we must not look too closely into trifles; and whether it be on the shoulder or on the backbone matters little; it is enough if there is a mole, be it where it may, for it is all the ...\n",
      "\u001B[91m 5000:\u001B[0m “My name is Hallvard, and I'm a student.” Hereupon, smiling slightly, Don Quixote exclaimed, “Lion-whelps to me! to me whelps of lions, and at such a time! Then, by God! those gentlemen who send them here shall see if I am a man to be frightened by lions. Get down, my good fellow, and as you are the keeper open the cages, and turn me out those beasts, and in the midst of this plain I will let them know who Don Quixote of La Mancha is, in spite and in the ...\n",
      "\n",
      "\u001B[91m Temperature:\u001B[0m 0.5\n",
      "\u001B[91m 2000:\u001B[0m “My name is Hallvard, and I'm a student.” “There is a bad Christian,” said Don Quixote; “for if the name of my name is nothing of the proverb that says ‘what difference between my lord,’ and ‘the Pope, for though he is not a woman like a countess, but a woman’s daughter does not look for her a wife; and ‘he who knows that ‘the ‘the fool knows her?’ ‘he who has the mother,’ applies. Thou, thou, to my thinking, art venturing to it, to it ...\n",
      "\u001B[91m 3000:\u001B[0m “My name is Hallvard, and I'm a student.” “That I have already said on my part,” said the duke, “but you see how worthy gentleman is a very fat man, and he who is a married with a lining to match, and I know not what trimmings of impertinence and roguery? Who asked thee to meddle in my affairs, or to inquire whether I am a wise man or a blockhead? Hold thy peace; saddle Rocinante if he be unsaddled; and let us go to put my offer into execution; for with the right that I ...\n",
      "\u001B[91m 4000:\u001B[0m “My name is Hallvard, and I'm a student.” The lion has a close at last moment, as he was about to answer a word, not which was his companion carried upon him, but as he did not dare to suggest to him, fearing that he would not consent to do so; not because he did not know perfectly well the rank, goodness, virtue, and beauty of Luscinda, and that she had qualities that would do honour to any family in Spain, but because I was aware that he did not wish me to marry so soon, before ...\n",
      "\u001B[91m 5000:\u001B[0m “My name is Hallvard, and I'm a student.” With this, at last words Don Quixote, proceeded to say to him, “In the height of misadventure, is to fall in with you who would have been sure to take these adventures; so that, when he is a man who has something in his senses, has turned into a piece of bread and cheese; and seeing what my lady Dulcinea says, what my belief is that he would turn and feel the risk of death for another thou hast been going about in the depths of thy thoughts.” “ ...\n"
     ]
    }
   ],
   "execution_count": 5
  }
 ],
 "metadata": {
  "kernelspec": {
   "display_name": "Python 3",
   "language": "python",
   "name": "python3"
  },
  "language_info": {
   "codemirror_mode": {
    "name": "ipython",
    "version": 2
   },
   "file_extension": ".py",
   "mimetype": "text/x-python",
   "name": "python",
   "nbconvert_exporter": "python",
   "pygments_lexer": "ipython2",
   "version": "2.7.6"
  }
 },
 "nbformat": 4,
 "nbformat_minor": 5
}
