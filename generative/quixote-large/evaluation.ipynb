{
 "cells": [
  {
   "cell_type": "code",
   "id": "initial_id",
   "metadata": {
    "collapsed": true,
    "ExecuteTime": {
     "end_time": "2024-04-19T12:50:51.534881Z",
     "start_time": "2024-04-19T12:50:50.306549Z"
    }
   },
   "source": [
    "import torch\n",
    "import pandas as pd\n",
    "\n",
    "import sys\n",
    "sys.path.append(\"..\")\n",
    "from quixote import Quixote"
   ],
   "outputs": [],
   "execution_count": 1
  },
  {
   "metadata": {
    "ExecuteTime": {
     "end_time": "2024-04-19T12:50:51.820298Z",
     "start_time": "2024-04-19T12:50:51.535903Z"
    }
   },
   "cell_type": "code",
   "source": [
    "loss = pd.read_csv('loss.csv', header=0, index_col=0, usecols=[0, 1])\n",
    "loss.plot()"
   ],
   "id": "7a28af0ef85ea13a",
   "outputs": [
    {
     "data": {
      "text/plain": [
       "<Axes: xlabel='epoch'>"
      ]
     },
     "execution_count": 2,
     "metadata": {},
     "output_type": "execute_result"
    },
    {
     "data": {
      "text/plain": [
       "<Figure size 640x480 with 1 Axes>"
      ],
      "image/png": "[encoded data removed]"
     },
     "metadata": {},
     "output_type": "display_data"
    }
   ],
   "execution_count": 2
  },
  {
   "metadata": {
    "ExecuteTime": {
     "end_time": "2024-04-19T12:50:52.101637Z",
     "start_time": "2024-04-19T12:50:51.821662Z"
    }
   },
   "cell_type": "code",
   "source": [
    "model = torch.load(\"./quixote-large.pth\", map_location=torch.device('cpu'))\n",
    "model.config.device = \"cpu\""
   ],
   "id": "edc91851f4d5c722",
   "outputs": [],
   "execution_count": 3
  },
  {
   "metadata": {
    "ExecuteTime": {
     "end_time": "2024-04-19T12:50:52.105272Z",
     "start_time": "2024-04-19T12:50:52.102996Z"
    }
   },
   "cell_type": "code",
   "source": "prompt = \"said Don Quixote, to which Sanco replied\"",
   "id": "fa2755a7754461fe",
   "outputs": [],
   "execution_count": 4
  },
  {
   "metadata": {
    "ExecuteTime": {
     "end_time": "2024-04-19T12:51:03.929758Z",
     "start_time": "2024-04-19T12:50:52.106696Z"
    }
   },
   "cell_type": "code",
   "source": "model(prompt, generate=100, temperature=1.0)",
   "id": "5c2e04dff931fbf7",
   "outputs": [
    {
     "data": {
      "text/plain": [
       "'said Don Quixote, to which Sanco replied, “go bargain.” “In proper. “Dulcinea,” said Sancho,” said Don Fernando who he were so for all a fine and liberty under Rocinante, “Let himself with the marketDiana heartfelt Dapple without required (for once, or offence, señor have palm of Spain the page of the kingdom, a attun and paying any time so that foot he think that plan.” “Child, putting a cage.” “ capacious aiding, the delight, enchanters Sancho; where enchanted love of its Dulcinea del Toboso.'"
      ]
     },
     "execution_count": 5,
     "metadata": {},
     "output_type": "execute_result"
    }
   ],
   "execution_count": 5
  },
  {
   "metadata": {
    "ExecuteTime": {
     "end_time": "2024-04-19T12:51:09.959123Z",
     "start_time": "2024-04-19T12:51:03.934883Z"
    }
   },
   "cell_type": "code",
   "source": "model(prompt, generate=100, temperature=0.8)",
   "id": "981ebcf7d428e806",
   "outputs": [
    {
     "data": {
      "text/plain": [
       "'said Don Quixote, to which Sanco replied: “the honest knight-errant call is it be put it enemy of the feet, shows the peerless Dulcinea are all the other, though there will fall and at least may be no urinary out of some other, and even the stale and the trouble of which she has ever told him, but that it may with Don Quixote of the person, and the middle of the gentlemen, either they may be listening to dare to the risk. They were not see that he had for it was in a way,'"
      ]
     },
     "execution_count": 6,
     "metadata": {},
     "output_type": "execute_result"
    }
   ],
   "execution_count": 6
  },
  {
   "metadata": {
    "ExecuteTime": {
     "end_time": "2024-04-19T12:51:18.881397Z",
     "start_time": "2024-04-19T12:51:09.982556Z"
    }
   },
   "cell_type": "code",
   "source": "model(prompt, generate=100, temperature=0.5)",
   "id": "b4ec4c414d238070",
   "outputs": [
    {
     "data": {
      "text/plain": [
       "'said Don Quixote, to which Sanco replied that it is to the same time, “I have never been in the ground; but that is not so little, I am, and the sake of the first, and if I am, as if I have been more than I have been no doubt has not to be the two hundred and as soon as he may be the one of the others. I have been as I have been in the world; for the truth is that the end of the world. The host of the landlord, and'"
      ]
     },
     "execution_count": 7,
     "metadata": {},
     "output_type": "execute_result"
    }
   ],
   "execution_count": 7
  },
  {
   "metadata": {
    "ExecuteTime": {
     "end_time": "2024-04-19T12:51:24.954141Z",
     "start_time": "2024-04-19T12:51:18.888703Z"
    }
   },
   "cell_type": "code",
   "source": "model(prompt, generate=100, temperature=0.1)",
   "id": "a113cf590e3ba985",
   "outputs": [
    {
     "data": {
      "text/plain": [
       "'said Don Quixote, to which Sanco replied, “I have been a good as I have been a knight, and I have been a little, and I have been a little, and I have been a good fortune; and I have been a man of the same time to the same time, and I have been a great and I have been a little, and I have been a great as I have been a little, and I have been in the same time to the same time to the same time, and the curate, and the'"
      ]
     },
     "execution_count": 8,
     "metadata": {},
     "output_type": "execute_result"
    }
   ],
   "execution_count": 8
  }
 ],
 "metadata": {
  "kernelspec": {
   "display_name": "Python 3",
   "language": "python",
   "name": "python3"
  },
  "language_info": {
   "codemirror_mode": {
    "name": "ipython",
    "version": 2
   },
   "file_extension": ".py",
   "mimetype": "text/x-python",
   "name": "python",
   "nbconvert_exporter": "python",
   "pygments_lexer": "ipython2",
   "version": "2.7.6"
  }
 },
 "nbformat": 4,
 "nbformat_minor": 5
}
