{
 "cells": [
  {
   "cell_type": "code",
   "id": "initial_id",
   "metadata": {
    "collapsed": true,
    "ExecuteTime": {
     "end_time": "2024-04-20T14:45:42.241799Z",
     "start_time": "2024-04-20T14:45:42.225275Z"
    }
   },
   "source": "from tokenization.bpe import RegexTokenizer",
   "outputs": [],
   "execution_count": 1
  },
  {
   "metadata": {
    "ExecuteTime": {
     "end_time": "2024-04-20T14:45:42.254250Z",
     "start_time": "2024-04-20T14:45:42.244543Z"
    }
   },
   "cell_type": "code",
   "source": [
    "tokenizer = RegexTokenizer()\n",
    "tokenizer.load(\"./kafka.model\")"
   ],
   "id": "a54185a2b891f77e",
   "outputs": [],
   "execution_count": 2
  },
  {
   "metadata": {
    "ExecuteTime": {
     "end_time": "2024-04-20T14:45:42.260984Z",
     "start_time": "2024-04-20T14:45:42.256589Z"
    }
   },
   "cell_type": "code",
   "source": [
    "txt = \"Then, K. went outside.\"\n",
    "print(\"Original\", txt)\n",
    "enc = tokenizer.encode(txt)\n",
    "print(\"Encoding\", enc)\n",
    "dec = tokenizer.decode(enc)\n",
    "print(\"Decoding\", dec)"
   ],
   "id": "311afe0036e49eba",
   "outputs": [
    {
     "name": "stdout",
     "output_type": "stream",
     "text": [
      "Original Then, K. went outside.\n",
      "Encoding [257, 3784, 44, 1289, 46, 1141, 1635, 46, 258]\n",
      "Decoding Then, K. went outside.\n"
     ]
    }
   ],
   "execution_count": 3
  },
  {
   "metadata": {
    "ExecuteTime": {
     "end_time": "2024-04-20T14:45:42.265959Z",
     "start_time": "2024-04-20T14:45:42.262346Z"
    }
   },
   "cell_type": "code",
   "source": [
    "txt = \"Hei jeg heter Hallvard\"\n",
    "print(\"Original\", txt)\n",
    "enc = tokenizer.encode(txt)\n",
    "print(\"Encoding\", enc)\n",
    "dec = tokenizer.decode(enc)\n",
    "print(\"Decoding\", dec)"
   ],
   "id": "f593446ca1a96f2a",
   "outputs": [
    {
     "name": "stdout",
     "output_type": "stream",
     "text": [
      "Original Hei jeg heter Hallvard\n",
      "Encoding [257, 3597, 105, 461, 101, 103, 299, 369, 436, 354, 118, 426, 258]\n",
      "Decoding Hei jeg heter Hallvard\n"
     ]
    }
   ],
   "execution_count": 4
  },
  {
   "metadata": {
    "ExecuteTime": {
     "end_time": "2024-04-20T14:45:42.286832Z",
     "start_time": "2024-04-20T14:45:42.283373Z"
    }
   },
   "cell_type": "code",
   "source": [
    "txt = \"@ æ\"\n",
    "print(\"Original\", txt)\n",
    "enc = tokenizer.encode(txt)\n",
    "print(\"Encoding\", enc)\n",
    "dec = tokenizer.decode(enc)\n",
    "print(\"Decoding\", dec)"
   ],
   "id": "47c5a543948d6d87",
   "outputs": [
    {
     "name": "stdout",
     "output_type": "stream",
     "text": [
      "Original @ æ\n",
      "Encoding [257, 64, 32, 195, 166, 258]\n",
      "Decoding @ æ\n"
     ]
    }
   ],
   "execution_count": 5
  }
 ],
 "metadata": {
  "kernelspec": {
   "display_name": "Python 3",
   "language": "python",
   "name": "python3"
  },
  "language_info": {
   "codemirror_mode": {
    "name": "ipython",
    "version": 2
   },
   "file_extension": ".py",
   "mimetype": "text/x-python",
   "name": "python",
   "nbconvert_exporter": "python",
   "pygments_lexer": "ipython2",
   "version": "2.7.6"
  }
 },
 "nbformat": 4,
 "nbformat_minor": 5
}
