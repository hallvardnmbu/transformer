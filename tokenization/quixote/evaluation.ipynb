{
 "cells": [
  {
   "cell_type": "code",
   "id": "initial_id",
   "metadata": {
    "collapsed": true,
    "ExecuteTime": {
     "end_time": "2024-04-18T16:46:21.111297Z",
     "start_time": "2024-04-18T16:46:21.099177Z"
    }
   },
   "source": "from tokenization.bpe import RegexTokenizer",
   "outputs": [],
   "execution_count": 1
  },
  {
   "metadata": {
    "ExecuteTime": {
     "end_time": "2024-04-18T16:46:21.128498Z",
     "start_time": "2024-04-18T16:46:21.112363Z"
    }
   },
   "cell_type": "code",
   "source": [
    "tokenizer = RegexTokenizer()\n",
    "tokenizer.load(\"./tokenizer.model\")"
   ],
   "id": "a54185a2b891f77e",
   "outputs": [],
   "execution_count": 2
  },
  {
   "metadata": {
    "ExecuteTime": {
     "end_time": "2024-04-18T16:46:21.132189Z",
     "start_time": "2024-04-18T16:46:21.129225Z"
    }
   },
   "cell_type": "code",
   "source": [
    "txt = \"“I hold thou art in the right of it, Sancho,”\"\n",
    "print(\"Original\", txt)\n",
    "enc = tokenizer.encode(txt)\n",
    "print(\"Encoding\", enc)\n",
    "dec = tokenizer.decode(enc)\n",
    "print(\"Decoding\", dec)"
   ],
   "id": "311afe0036e49eba",
   "outputs": [
    {
     "name": "stdout",
     "output_type": "stream",
     "text": [
      "Original “I hold thou art in the right of it, Sancho,”\n",
      "Encoding [257, 5948, 73, 1084, 402, 864, 297, 262, 941, 281, 314, 44, 396, 408, 258]\n",
      "Decoding “I hold thou art in the right of it, Sancho,”\n"
     ]
    }
   ],
   "execution_count": 3
  },
  {
   "metadata": {
    "ExecuteTime": {
     "end_time": "2024-04-18T16:46:21.135277Z",
     "start_time": "2024-04-18T16:46:21.132873Z"
    }
   },
   "cell_type": "code",
   "source": [
    "txt = \"Hei jeg heter Hallvard\"\n",
    "print(\"Original\", txt)\n",
    "enc = tokenizer.encode(txt)\n",
    "print(\"Encoding\", enc)\n",
    "dec = tokenizer.decode(enc)\n",
    "print(\"Decoding\", dec)"
   ],
   "id": "f593446ca1a96f2a",
   "outputs": [
    {
     "name": "stdout",
     "output_type": "stream",
     "text": [
      "Original Hei jeg heter Hallvard\n",
      "Encoding [257, 3326, 105, 1970, 103, 290, 381, 566, 440, 118, 456, 258]\n",
      "Decoding Hei jeg heter Hallvard\n"
     ]
    }
   ],
   "execution_count": 4
  },
  {
   "metadata": {
    "ExecuteTime": {
     "end_time": "2024-04-18T16:46:21.138661Z",
     "start_time": "2024-04-18T16:46:21.136553Z"
    }
   },
   "cell_type": "code",
   "source": [
    "txt = \"@ æ\"\n",
    "print(\"Original\", txt)\n",
    "enc = tokenizer.encode(txt)\n",
    "print(\"Encoding\", enc)\n",
    "dec = tokenizer.decode(enc)\n",
    "print(\"Decoding\", dec)"
   ],
   "id": "47c5a543948d6d87",
   "outputs": [
    {
     "name": "stdout",
     "output_type": "stream",
     "text": [
      "Original @ æ\n",
      "Encoding [257, 64, 2859, 166, 258]\n",
      "Decoding @ æ\n"
     ]
    }
   ],
   "execution_count": 5
  }
 ],
 "metadata": {
  "kernelspec": {
   "display_name": "Python 3",
   "language": "python",
   "name": "python3"
  },
  "language_info": {
   "codemirror_mode": {
    "name": "ipython",
    "version": 2
   },
   "file_extension": ".py",
   "mimetype": "text/x-python",
   "name": "python",
   "nbconvert_exporter": "python",
   "pygments_lexer": "ipython2",
   "version": "2.7.6"
  }
 },
 "nbformat": 4,
 "nbformat_minor": 5
}
