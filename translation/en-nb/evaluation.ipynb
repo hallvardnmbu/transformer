{
 "cells": [
  {
   "metadata": {},
   "cell_type": "markdown",
   "source": "# Translation from English to Norwegian",
   "id": "7095e7caf4742409"
  },
  {
   "metadata": {},
   "cell_type": "markdown",
   "source": "",
   "id": "39f94c4385ea65c9"
  },
  {
   "cell_type": "code",
   "id": "initial_id",
   "metadata": {
    "collapsed": true,
    "ExecuteTime": {
     "end_time": "2024-04-19T18:22:23.014282Z",
     "start_time": "2024-04-19T18:22:21.075002Z"
    }
   },
   "source": [
    "import sys\n",
    "import torch\n",
    "import pandas as pd\n",
    "sys.path.append(\"..\")\n",
    "from translator import Translator"
   ],
   "outputs": [],
   "execution_count": 1
  },
  {
   "metadata": {
    "ExecuteTime": {
     "end_time": "2024-04-19T18:22:23.017327Z",
     "start_time": "2024-04-19T18:22:23.015670Z"
    }
   },
   "cell_type": "code",
   "source": [
    "loss = pd.read_csv('loss.csv', header=0, index_col=0)\n",
    "loss.plot(y=\"train_loss\")\n",
    "loss.plot(y=\"val_loss\")"
   ],
   "id": "319403672917222",
   "outputs": [],
   "execution_count": 2
  },
  {
   "metadata": {
    "ExecuteTime": {
     "end_time": "2024-04-19T18:34:30.506892Z",
     "start_time": "2024-04-19T18:34:30.352492Z"
    }
   },
   "cell_type": "code",
   "source": [
    "debug = pd.read_csv('debug.csv', header=0, usecols=[\"iteration\", \"train_loss_batch\"])\n",
    "debug.rolling(window=75).mean().plot(y=\"train_loss_batch\")"
   ],
   "id": "6f0070ed824bc326",
   "outputs": [
    {
     "data": {
      "text/plain": [
       "<Axes: >"
      ]
     },
     "execution_count": 12,
     "metadata": {},
     "output_type": "execute_result"
    },
    {
     "data": {
      "text/plain": [
       "<Figure size 640x480 with 1 Axes>"
      ],
      "image/png": "[encoded data removed]"
     },
     "metadata": {},
     "output_type": "display_data"
    }
   ],
   "execution_count": 12
  },
  {
   "metadata": {
    "ExecuteTime": {
     "end_time": "2024-04-19T18:22:23.955759Z",
     "start_time": "2024-04-19T18:22:23.017850Z"
    }
   },
   "cell_type": "code",
   "source": [
    "prompts = [\n",
    "    \"Universe\",\n",
    "    \"A chair.\",\n",
    "    \"My book is on the table.\",\n",
    "    \"I like sitting at school when working.\",\n",
    "    \"By attending the physics-lectures I got sleepy.\",\n",
    "    \"Who could possibly avoid death?\",\n",
    "    \"Yes, well how do you, as an AI, handle such long inputs as this? Are you able to translate \"\n",
    "    \"them? I have not looked in the dataset thoroughly enough to see wheter there are any long \"\n",
    "    \"pairs.\"\n",
    "]\n",
    "model =  torch.load(\"./model-5.pth\", map_location=torch.device('cpu'))\n",
    "model.config.device = \"cpu\""
   ],
   "id": "ada12f4c693d5e6f",
   "outputs": [],
   "execution_count": 3
  },
  {
   "metadata": {},
   "cell_type": "markdown",
   "source": "# Example translations from the untrained and checkpointed models",
   "id": "e2ae8aa7c1ab50ff"
  },
  {
   "metadata": {
    "ExecuteTime": {
     "end_time": "2024-04-19T18:22:27.318929Z",
     "start_time": "2024-04-19T18:22:23.957477Z"
    }
   },
   "cell_type": "code",
   "source": [
    "for prompt in prompts:\n",
    "    print(f\" \\033[91m From:\\033[0m {prompt}\")\n",
    "    print(f\" \\033[91m   To:\\033[0m {model(prompt)}\")\n",
    "    print(\"-------\") if prompt != prompts[-1] else None"
   ],
   "id": "735c9ea726e87c68",
   "outputs": [
    {
     "name": "stdout",
     "output_type": "stream",
     "text": [
      " \u001B[91m From:\u001B[0m Universe\n",
      " \u001B[91m   To:\u001B[0m  - Alle sammen.\n",
      "-------\n",
      " \u001B[91m From:\u001B[0m A chair.\n",
      " \u001B[91m   To:\u001B[0m  En stol.\n",
      "-------\n",
      " \u001B[91m From:\u001B[0m My book is on the table.\n",
      " \u001B[91m   To:\u001B[0m  Min bok er på bordet.\n",
      "-------\n",
      " \u001B[91m From:\u001B[0m I like sitting at school when working.\n",
      " \u001B[91m   To:\u001B[0m  Jeg liker å sitte på skolen når jeg jobber.\n",
      "-------\n",
      " \u001B[91m From:\u001B[0m By attending the physics-lectures I got sleepy.\n",
      " \u001B[91m   To:\u001B[0m  Ved å komme med fysikk-ene jeg fikk sove.\n",
      "-------\n",
      " \u001B[91m From:\u001B[0m Who could possibly avoid death?\n",
      " \u001B[91m   To:\u001B[0m  Hvem kan unngå døden?\n",
      "-------\n",
      " \u001B[91m From:\u001B[0m Yes, well how do you, as an AI, handle such long inputs as this? Are you able to translate them? I have not looked in the dataset thoroughly enough to see wheter there are any long pairs.\n",
      " \u001B[91m   To:\u001B[0m  - Hvordan kan du oversette dem?\n"
     ]
    }
   ],
   "execution_count": 4
  }
 ],
 "metadata": {
  "kernelspec": {
   "display_name": "Python 3",
   "language": "python",
   "name": "python3"
  },
  "language_info": {
   "codemirror_mode": {
    "name": "ipython",
    "version": 2
   },
   "file_extension": ".py",
   "mimetype": "text/x-python",
   "name": "python",
   "nbconvert_exporter": "python",
   "pygments_lexer": "ipython2",
   "version": "2.7.6"
  }
 },
 "nbformat": 4,
 "nbformat_minor": 5
}
