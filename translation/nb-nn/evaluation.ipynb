{
 "cells": [
  {
   "cell_type": "code",
   "id": "initial_id",
   "metadata": {
    "collapsed": true,
    "ExecuteTime": {
     "end_time": "2024-04-16T19:29:27.842609Z",
     "start_time": "2024-04-16T19:29:25.316980Z"
    }
   },
   "source": [
    "import sys\n",
    "import torch\n",
    "sys.path.append(\"..\")\n",
    "from translator import Translator"
   ],
   "outputs": [],
   "execution_count": 1
  },
  {
   "metadata": {
    "ExecuteTime": {
     "end_time": "2024-04-16T19:29:36.877358Z",
     "start_time": "2024-04-16T19:29:27.843791Z"
    }
   },
   "cell_type": "code",
   "source": [
    "prompts = [\n",
    "    \"Universet\",\n",
    "    \"En stol.\",\n",
    "    \"Boken min er på bordet.\",\n",
    "    \"Jeg liker å sitte på skolen når jeg jobber.\",\n",
    "    \"Ved å høre på forelesninger i fysikk ble jeg veldig trøtt.\",\n",
    "    \"Hvem kan vel unnslippe døden?\",\n",
    "    \"Norges Miljø- og Biovitenskapelige Universitet\"\n",
    "]\n",
    "models = {\n",
    "    \"0 epochs\": Translator(),\n",
    "    \"10 epochs\": torch.load(\"./model-10.pth\", map_location=torch.device('cpu')),\n",
    "    \"30 epochs\": torch.load(\"./model-30.pth\", map_location=torch.device('cpu')),\n",
    "    \"60 epochs\": torch.load(\"./model-60.pth\", map_location=torch.device('cpu')),\n",
    "}"
   ],
   "id": "ada12f4c693d5e6f",
   "outputs": [
    {
     "name": "stderr",
     "output_type": "stream",
     "text": [
      "/Users/Mac/anaconda3/envs/spesialpensum/lib/python3.10/site-packages/torch/nn/modules/transformer.py:286: UserWarning: enable_nested_tensor is True, but self.use_nested_tensor is False because encoder_layer.self_attn.batch_first was not True(use batch_first for better inference performance)\n",
      "  warnings.warn(f\"enable_nested_tensor is True, but self.use_nested_tensor is False because {why_not_sparsity_fast_path}\")\n"
     ]
    }
   ],
   "execution_count": 2
  },
  {
   "metadata": {},
   "cell_type": "markdown",
   "source": "# Eksempler fra modellene under trening",
   "id": "e2ae8aa7c1ab50ff"
  },
  {
   "metadata": {
    "ExecuteTime": {
     "end_time": "2024-04-16T19:30:41.629791Z",
     "start_time": "2024-04-16T19:29:36.907563Z"
    }
   },
   "cell_type": "code",
   "source": [
    "for state, model in models.items():\n",
    "    model.config.device = \"cpu\"\n",
    "    \n",
    "    print(f\"Modell: {state}\")\n",
    "    for prompt in prompts:\n",
    "        print(f\" Fra: {prompt}\")\n",
    "        print(f\"   > {model(prompt)}\")\n",
    "    print()"
   ],
   "id": "735c9ea726e87c68",
   "outputs": [
    {
     "name": "stdout",
     "output_type": "stream",
     "text": [
      "Modell: 0 epochs\n",
      " Fra: Universet\n",
      "   > ##úriaúriaúriaúriaúriaúriaúriaúriaúriaúriaúriaúriaúriaúria\n",
      " Fra: En stol.\n",
      "   > ##omosomosomosomosomosomosomosomosomosomosomosomosomosomosomosomos\n",
      " Fra: Boken min er på bordet.\n",
      "   > ##eteketeketeketeketeketeketeketeketeketeketeketeketeketeketeketeketeketeketeketek\n",
      " Fra: Jeg liker å sitte på skolen når jeg jobber.\n",
      "   > khas khas khaseteketeketeketeketeketeketeketeketeketeketeketeketeketeketeketeketeketeketeketeketeketek\n",
      " Fra: Ved å høre på forelesninger i fysikk ble jeg veldig trøtt.\n",
      "   > 1555 1555 1555 1555 1555 1555 1555 1555 1555 1555 1555 1555 1555 1555 1555 1555 1555 1555 1555 1555 1555 1555 1555 1555 1555 1555 1555 1555 1555 1555 1555 1555\n",
      " Fra: Hvem kan vel unnslippe døden?\n",
      "   > ##eteketeketeketeketeketeketeketeketeketeketeketeketeketeketeketeketeketeketeketeketeketeketek\n",
      " Fra: Norges Miljø- og Biovitenskapelige Universitet\n",
      "   > ##eteketeketeketeketeketeketeketeketeketeketeketeketeketeketeketeketeketeketeketeketeketek\n",
      "\n",
      "Modell: 10 epochs\n",
      " Fra: Universet\n",
      "   >  Universetet vart sett i ein av tidlegare hus for Universetet\n",
      " Fra: En stol.\n",
      "   >  Ein annan stad i byen. Han var ein stad i det regionale byen.\n",
      " Fra: Boken min er på bordet.\n",
      "   >  Boka er mykje på å sjå på Manchester.\n",
      " Fra: Jeg liker å sitte på skolen når jeg jobber.\n",
      "   >  Eg prøvde å ha ein god på skulen, men eg held han på ein\n",
      " Fra: Ved å høre på forelesninger i fysikk ble jeg veldig trøtt.\n",
      "   >  Ved å arbeide på fysikk på fysikk er eg mykje mykje enn det.\n",
      " Fra: Hvem kan vel unnslippe døden?\n",
      "   >  Det kan vera ut ein måte å sjå ut ut ut når ho kjem ut.\n",
      " Fra: Norges Miljø- og Biovitenskapelige Universitet\n",
      "   >  Eckhoff brukte eit organisasjon og kulturane som blei sett inn i fengsel og klosterdelagd.\n",
      "\n",
      "Modell: 30 epochs\n",
      " Fra: Universet\n",
      "   >  Universet som inkluderer fotstader i Universet Universet Universtaris\n",
      " Fra: En stol.\n",
      "   >  Den 100re borgmesteren i ein plass i Den statlege plassen.\n",
      " Fra: Boken min er på bordet.\n",
      "   >  Boka er på bordet.\n",
      " Fra: Jeg liker å sitte på skolen når jeg jobber.\n",
      "   >  Eg likte å sitjande på skulen når eg jobbar han.\n",
      " Fra: Ved å høre på forelesninger i fysikk ble jeg veldig trøtt.\n",
      "   >  Ved å høyre høyre senter i fysikk var eg kjent.\n",
      " Fra: Hvem kan vel unnslippe døden?\n",
      "   >  Styremedlemmar går frå døden?\n",
      " Fra: Norges Miljø- og Biovitenskapelige Universitet\n",
      "   >  CLpressa og eit lovleg tårn ved vår\n",
      "\n",
      "Modell: 60 epochs\n",
      " Fra: Universet\n",
      "   >  Universetishet er geet som Universet som Universetis\n",
      " Fra: En stol.\n",
      "   >  Ein kan bli ein statar i skal handla.\n",
      " Fra: Boken min er på bordet.\n",
      "   >  Boka er oms bordet på bordet.\n",
      " Fra: Jeg liker å sitte på skolen når jeg jobber.\n",
      "   >  Eg likar å sitja på skulen når eg jobbar.\n",
      " Fra: Ved å høre på forelesninger i fysikk ble jeg veldig trøtt.\n",
      "   >  Ved å høyre forsking på klinisk forsking vart alle synleg.\n",
      " Fra: Hvem kan vel unnslippe døden?\n",
      "   >  Det kan ta livet av døden å ta resten av farga.\n",
      " Fra: Norges Miljø- og Biovitenskapelige Universitet\n",
      "   >  Tour-kontoret og biografiar ved New York held seg på\n",
      "\n"
     ]
    }
   ],
   "execution_count": 3
  },
  {
   "metadata": {},
   "cell_type": "markdown",
   "source": "# Eksempler fra treningsdata",
   "id": "148f4859133eb2a9"
  },
  {
   "metadata": {
    "ExecuteTime": {
     "end_time": "2024-04-16T19:31:23.630160Z",
     "start_time": "2024-04-16T19:30:41.640187Z"
    }
   },
   "cell_type": "code",
   "source": "dataset, _ = models[\"0 epochs\"]._data()",
   "id": "273cea0f6ed3c9e9",
   "outputs": [
    {
     "name": "stderr",
     "output_type": "stream",
     "text": [
      "Using the latest cached version of the dataset since NbAiLab/norwegian-paws-x couldn't be found on the Hugging Face Hub\n",
      "Found the latest cached dataset configuration 'nb' at /Users/Mac/.cache/huggingface/datasets/NbAiLab___norwegian-paws-x/nb/1.1.0/b59d979a9ee1e04ae424a714479df4baa273396e (last modified on Tue Apr 16 21:28:10 2024).\n",
      "huggingface/tokenizers: The current process just got forked, after parallelism has already been used. Disabling parallelism to avoid deadlocks...\n",
      "To disable this warning, you can either:\n",
      "\t- Avoid using `tokenizers` before the fork if possible\n",
      "\t- Explicitly set the environment variable TOKENIZERS_PARALLELISM=(true | false)\n"
     ]
    },
    {
     "data": {
      "text/plain": [
       "Map:   0%|          | 0/49401 [00:00<?, ? examples/s]"
      ],
      "application/vnd.jupyter.widget-view+json": {
       "version_major": 2,
       "version_minor": 0,
       "model_id": "26e209795d4b45d78d6fcefa3fa77181"
      }
     },
     "metadata": {},
     "output_type": "display_data"
    },
    {
     "data": {
      "text/plain": [
       "Map:   0%|          | 0/2000 [00:00<?, ? examples/s]"
      ],
      "application/vnd.jupyter.widget-view+json": {
       "version_major": 2,
       "version_minor": 0,
       "model_id": "55413e5da07e44a3a301565243fe85fb"
      }
     },
     "metadata": {},
     "output_type": "display_data"
    },
    {
     "data": {
      "text/plain": [
       "Map:   0%|          | 0/2000 [00:00<?, ? examples/s]"
      ],
      "application/vnd.jupyter.widget-view+json": {
       "version_major": 2,
       "version_minor": 0,
       "model_id": "c456cd8735f249159560a7aef6cb40c6"
      }
     },
     "metadata": {},
     "output_type": "display_data"
    },
    {
     "data": {
      "text/plain": [
       "Map:   0%|          | 0/49401 [00:00<?, ? examples/s]"
      ],
      "application/vnd.jupyter.widget-view+json": {
       "version_major": 2,
       "version_minor": 0,
       "model_id": "70673bd06a994ff9a7093ecfa477391e"
      }
     },
     "metadata": {},
     "output_type": "display_data"
    },
    {
     "data": {
      "text/plain": [
       "Map:   0%|          | 0/2000 [00:00<?, ? examples/s]"
      ],
      "application/vnd.jupyter.widget-view+json": {
       "version_major": 2,
       "version_minor": 0,
       "model_id": "17cba117819c4d7b8852cc5c9321d4fb"
      }
     },
     "metadata": {},
     "output_type": "display_data"
    },
    {
     "data": {
      "text/plain": [
       "Map:   0%|          | 0/2000 [00:00<?, ? examples/s]"
      ],
      "application/vnd.jupyter.widget-view+json": {
       "version_major": 2,
       "version_minor": 0,
       "model_id": "75f74bbf309547a88d88b026fac7c71a"
      }
     },
     "metadata": {},
     "output_type": "display_data"
    }
   ],
   "execution_count": 4
  },
  {
   "metadata": {
    "ExecuteTime": {
     "end_time": "2024-04-16T19:31:24.015734Z",
     "start_time": "2024-04-16T19:31:23.668015Z"
    }
   },
   "cell_type": "code",
   "source": [
    "for i in torch.random.default_generator.get_state().tolist()[:9]:\n",
    "    print(dataset[\"train\"][\"sentence1\"][i])\n",
    "    print()"
   ],
   "id": "4f429705c9cce1e5",
   "outputs": [
    {
     "name": "stdout",
     "output_type": "stream",
     "text": [
      "Den brukes som et mål for absorbert dose, kinetisk energi (utgitt) og kerma (et akronym for spesifikk energi gitt per enhet masse).\n",
      "\n",
      "Flere animatroniske figurer ble også skapt... en gigantisk gås (Galaga) og et animatronisk hode for de marionettede Cernos.\n",
      "\n",
      "Som et team med et seniorstadion, har dere rett til å delta i Scottish Cup.\n",
      "\n",
      "Marsh Creek er en lang biflod av Portneuf River i Bannock County, Idaho.\n",
      "\n",
      "Med en diskret mengde sannsynligheter Formel 1 med betingelsen Formel 2 og Formel 3 et hvilket som helst reelt tall, er Tsallis definert som entropi som\n",
      "\n",
      "(Don Wyatt hadde vært i pingvinene i 1956, og både Eddie og Ray hadde vært med Ray i de senere Colts / Fortunes.)\n",
      "\n",
      "Banach - Mackey topologi og den svake Arens rom topologi er relativt sjelden brukt.\n",
      "\n",
      "Quintus Caecilius Metellus Macedonicus var den andre sønnen til romersk politiker og general Lucius Caecilius Metellus Diadematus.\n",
      "\n",
      "De isodynamiske konjugatene av Fermat-punktene er de isogonale punktene og omvendt.\n",
      "\n"
     ]
    }
   ],
   "execution_count": 5
  }
 ],
 "metadata": {
  "kernelspec": {
   "display_name": "Python 3",
   "language": "python",
   "name": "python3"
  },
  "language_info": {
   "codemirror_mode": {
    "name": "ipython",
    "version": 2
   },
   "file_extension": ".py",
   "mimetype": "text/x-python",
   "name": "python",
   "nbconvert_exporter": "python",
   "pygments_lexer": "ipython2",
   "version": "2.7.6"
  }
 },
 "nbformat": 4,
 "nbformat_minor": 5
}
