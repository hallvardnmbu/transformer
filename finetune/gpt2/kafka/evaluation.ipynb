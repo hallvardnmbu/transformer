{
 "cells": [
  {
   "metadata": {},
   "cell_type": "markdown",
   "source": "# Franz Kafka model finetuned from GPT-2",
   "id": "a962c3b611627dd6"
  },
  {
   "cell_type": "code",
   "id": "initial_id",
   "metadata": {
    "collapsed": true,
    "ExecuteTime": {
     "end_time": "2024-04-25T09:26:30.453892Z",
     "start_time": "2024-04-25T09:26:28.688030Z"
    }
   },
   "source": "from finetune.gpt2.finetune import get_model, evaluate",
   "outputs": [],
   "execution_count": 1
  },
  {
   "metadata": {
    "ExecuteTime": {
     "end_time": "2024-04-25T09:26:30.456620Z",
     "start_time": "2024-04-25T09:26:30.454837Z"
    }
   },
   "cell_type": "code",
   "source": [
    "models = {\n",
    "    \"epoch 1\": \"./checkpoints/checkpoint-117\",\n",
    "    \"epoch 2\": \"./checkpoints/checkpoint-234\",\n",
    "    \"epoch 3\": \"./checkpoints/checkpoint-351\",\n",
    "    \"epoch 4\": \"./checkpoints/checkpoint-468\",\n",
    "}"
   ],
   "id": "216f8fc965e46f5e",
   "outputs": [],
   "execution_count": 2
  },
  {
   "metadata": {
    "ExecuteTime": {
     "end_time": "2024-04-25T09:26:30.458641Z",
     "start_time": "2024-04-25T09:26:30.457193Z"
    }
   },
   "cell_type": "code",
   "source": [
    "prompts = [\"My name is Hallvard, and I'm a student.\",\n",
    "           \"Where the hell are you?\",]\n",
    "temperatures = [1.0]\n",
    "maximum = 100\n",
    "top_k = None"
   ],
   "id": "fa2755a7754461fe",
   "outputs": [],
   "execution_count": 3
  },
  {
   "metadata": {
    "ExecuteTime": {
     "end_time": "2024-04-25T09:29:01.703550Z",
     "start_time": "2024-04-25T09:26:30.459187Z"
    }
   },
   "cell_type": "code",
   "source": [
    "for which, tag in models.items():\n",
    "    model = get_model(tag)\n",
    "    \n",
    "    for temperature in temperatures:\n",
    "        print(f\"\\n\\033[91m Temperature:\\033[0m {temperature}\")\n",
    "        for prompt in prompts:\n",
    "            print(f\"\\n\\033[92m Prompt:\\033[0m {prompt}\")\n",
    "            \n",
    "            output = evaluate(model, prompt, generate=maximum, temperature=temperature, top_k=top_k)\n",
    "            print(f\"\\033[91m {which}:\\n\\033[0m {output} ...\")"
   ],
   "id": "cc9b382662515280",
   "outputs": [
    {
     "name": "stdout",
     "output_type": "stream",
     "text": [
      "\n",
      "\u001B[91m Temperature:\u001B[0m 1.0\n",
      "\n",
      "\u001B[92m Prompt:\u001B[0m My name is Hallvard, and I'm a student.\n",
      "\u001B[91m epoch 1:\n",
      "\u001B[0m My name is Hallvard, and I'm a student. I've been studying for a long time, but I can't remember the last time I was in school. My father, who was a teacher at the school, said to me: 'You're a good student, you've got a lot of work to do.' And I said, 'No, I don't want to go to school at all.' But he said: `You'll be fine. You'll have a great time ...\n",
      "\n",
      "\u001B[92m Prompt:\u001B[0m Where the hell are you?\n",
      "\u001B[91m epoch 1:\n",
      "\u001B[0m Where the hell are you? I'm not going to lie to you, I don't know what you're talking about, but I've got to tell you something. You're the only one who's got any idea of what's going on in the world, and that's why I can't help it.\" \"You're right,\" said the man, \"I'm sorry, it's not my fault. I didn't mean to offend you. It's just that you've always been so ...\n",
      "\n",
      "\u001B[91m Temperature:\u001B[0m 1.0\n",
      "\n",
      "\u001B[92m Prompt:\u001B[0m My name is Hallvard, and I'm a student.\n",
      "\u001B[91m epoch 2:\n",
      "\u001B[0m My name is Hallvard, and I'm a student. My father is a doctor, my mother is an artist. I've always wanted to be a violinist, but I don't know how to do it, I can't even play the violin. So I have to make my own way.\" \"You're right,\" said the teacher, \"I'm not going to let you down. You've got to get out of my way, you know that. But if you want to go ...\n",
      "\n",
      "\u001B[92m Prompt:\u001B[0m Where the hell are you?\n",
      "\u001B[91m epoch 2:\n",
      "\u001B[0m Where the hell are you? I don't know what you're talking about, but I can't help it.\" \"You're right,\" I said. \"I'm sorry,\" he said, \"but I'm not going to tell you anything. I've got to go, I'll go. You're a good man, you know that. And you'll be glad to hear me out. But you mustn't be afraid of me. Don't worry about it. Just let me go ...\n",
      "\n",
      "\u001B[91m Temperature:\u001B[0m 1.0\n",
      "\n",
      "\u001B[92m Prompt:\u001B[0m My name is Hallvard, and I'm a student.\n",
      "\u001B[91m epoch 3:\n",
      "\u001B[0m My name is Hallvard, and I'm a student. My father is a doctor, my mother is an artist. I was born in a small village in the south of the country, where I grew up. In my youth I had a great deal of trouble with my parents, but they were very kind and kind to me. They taught me everything I needed to know about medicine, science, history, philosophy, art, music, architecture, medicine and so on. But I didn't know ...\n",
      "\n",
      "\u001B[92m Prompt:\u001B[0m Where the hell are you?\n",
      "\u001B[91m epoch 3:\n",
      "\u001B[0m Where the hell are you? What's going to happen to you?\" \"I don't know,\" said Blumfeld, \"but I can't help it. I've got to get out of here.\" \"Well, you're not going anywhere, I'm afraid, but you'll have to go somewhere else. Don't worry about it, it's only a matter of time before you find yourself in a cage. And if you do that, there's no need for me to tell you ...\n",
      "\n",
      "\u001B[91m Temperature:\u001B[0m 1.0\n",
      "\n",
      "\u001B[92m Prompt:\u001B[0m My name is Hallvard, and I'm a student.\n",
      "\u001B[91m epoch 4:\n",
      "\u001B[0m My name is Hallvard, and I'm a student. I was born in the town of Blumfeld, where I grew up. My father was a doctor, my mother was an artist, but my father died when he was thirty years old, so I have no memory of him. But I remember him very well. He was one of the most beautiful people I ever met, he had a beautiful face, his hair was long and his eyes were full of tears. When I met him ...\n",
      "\n",
      "\u001B[92m Prompt:\u001B[0m Where the hell are you?\n",
      "\u001B[91m epoch 4:\n",
      "\u001B[0m Where the hell are you? I don't know what you're up to, but I can't help it.\" \"I'm sorry, sir,\" said the officer, \"but I'm not going to tell you anything. I've got to go, I'll go with you.\" The officer went on to say: \"You're the only one who can tell me what's going on here, and that's what I want to ask you. You've been here for a long time, you ...\n"
     ]
    }
   ],
   "execution_count": 4
  }
 ],
 "metadata": {
  "kernelspec": {
   "display_name": "Python 3",
   "language": "python",
   "name": "python3"
  },
  "language_info": {
   "codemirror_mode": {
    "name": "ipython",
    "version": 2
   },
   "file_extension": ".py",
   "mimetype": "text/x-python",
   "name": "python",
   "nbconvert_exporter": "python",
   "pygments_lexer": "ipython2",
   "version": "2.7.6"
  }
 },
 "nbformat": 4,
 "nbformat_minor": 5
}
