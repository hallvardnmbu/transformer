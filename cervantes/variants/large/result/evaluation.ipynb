{
 "cells": [
  {
   "metadata": {},
   "cell_type": "markdown",
   "source": [
    "# Large version of the Don Quixote generative model\n",
    "\n",
    "Training cancelled at 1000 iterations, see `quixote-small` for the better (smaller) model."
   ],
   "id": "aec77470827ec147"
  },
  {
   "metadata": {},
   "cell_type": "markdown",
   "source": [
    "Hyperparameters: \n",
    "```plaintext\n",
    "Hyperparameters(block_size=1024, micro_steps=40, vocab_size=24540, n_layer=8, n_head=12, n_embd=516, dropout=0.0, bias=False, batch_size=32, epochs=10000, optimizer={'lr': 0.0006, 'betas': (0.9, 0.95), 'eps': 1e-09}, scheduler={'decay_lr': True, 'warmup': 2000, 'max': 600000, 'min_lr': 6e-05}, weight_decay=0.1, grad_clip=1.0, output_path='./output/', data_path='./dataset/quixote_oneline.txt', tokenizer={'path': None, 'bpe_path': './tokenization/tokenizer.model', 'k': None, 'special_symbols': {'[PAD]': 256, '[CLS]': 257, '[SEP]': 258}, 'vocab_size': 24540, 'tokenizer': None})\n",
    "```\n",
    "\n",
    "Transformer architecture: \n",
    "```plaintext\n",
    "GPT(\n",
    "  (transformer): ModuleDict(\n",
    "    (wte): Embedding(\n",
    "      (embedding): Embedding(24540, 516)\n",
    "    )\n",
    "    (wpe): Embedding(\n",
    "      (embedding): Embedding(1024, 516)\n",
    "    )\n",
    "    (drop): Dropout(p=0.0, inplace=False)\n",
    "    (h): ModuleList(\n",
    "      (0-7): 8 x Block(\n",
    "        (ln_1): LayerNorm()\n",
    "        (attn): CausalSelfAttention(\n",
    "          (c_attn): Linear(in_features=516, out_features=1548, bias=False)\n",
    "          (c_proj): Linear(in_features=516, out_features=516, bias=False)\n",
    "          (attn_dropout): Dropout(p=0.0, inplace=False)\n",
    "          (resid_dropout): Dropout(p=0.0, inplace=False)\n",
    "        )\n",
    "        (ln_2): LayerNorm()\n",
    "        (mlp): MLP(\n",
    "          (c_fc): Linear(in_features=516, out_features=2064, bias=False)\n",
    "          (gelu): GELU(approximate='none')\n",
    "          (c_proj): Linear(in_features=2064, out_features=516, bias=False)\n",
    "          (dropout): Dropout(p=0.0, inplace=False)\n",
    "        )\n",
    "      )\n",
    "    )\n",
    "    (ln_f): LayerNorm()\n",
    "  )\n",
    "  (generator): Linear(in_features=516, out_features=24540, bias=False)\n",
    ")\n",
    "```\n",
    "\n",
    "Vocabulary size: 24540"
   ],
   "id": "71c4917e5558ffbb"
  },
  {
   "cell_type": "code",
   "id": "initial_id",
   "metadata": {
    "collapsed": true,
    "ExecuteTime": {
     "end_time": "2024-04-21T09:37:09.114806Z",
     "start_time": "2024-04-21T09:37:07.710497Z"
    }
   },
   "source": [
    "import torch\n",
    "import pandas as pd\n",
    "\n",
    "import sys\n",
    "sys.path.append(\"..\")"
   ],
   "outputs": [],
   "execution_count": 1
  },
  {
   "metadata": {
    "ExecuteTime": {
     "end_time": "2024-04-21T09:37:09.399253Z",
     "start_time": "2024-04-21T09:37:09.115727Z"
    }
   },
   "cell_type": "code",
   "source": [
    "loss = pd.read_csv('loss.csv', header=0, index_col=0, usecols=[0, 1])\n",
    "loss.index.name = f\"iteration ({8 * 4 * 256 * 64} training-tokens per iteration)\"\n",
    "loss.plot()"
   ],
   "id": "7a28af0ef85ea13a",
   "outputs": [
    {
     "data": {
      "text/plain": [
       "<Axes: xlabel='iteration (524288 training-tokens per iteration)'>"
      ]
     },
     "execution_count": 2,
     "metadata": {},
     "output_type": "execute_result"
    },
    {
     "data": {
      "text/plain": [
       "<Figure size 640x480 with 1 Axes>"
      ],
      "image/png": "[encoded data removed]"
     },
     "metadata": {},
     "output_type": "display_data"
    }
   ],
   "execution_count": 2
  },
  {
   "metadata": {
    "ExecuteTime": {
     "end_time": "2024-04-21T09:37:10.198021Z",
     "start_time": "2024-04-21T09:37:09.399872Z"
    }
   },
   "cell_type": "code",
   "source": [
    "model = torch.load(\"./quixote-large.pth\", map_location=torch.device('cpu'))\n",
    "model.config.device = \"cpu\""
   ],
   "id": "edc91851f4d5c722",
   "outputs": [],
   "execution_count": 3
  },
  {
   "metadata": {
    "ExecuteTime": {
     "end_time": "2024-04-21T09:37:10.221332Z",
     "start_time": "2024-04-21T09:37:10.204398Z"
    }
   },
   "cell_type": "code",
   "source": [
    "prompt = \"“Here is the apple of which I spoke,” said Don Quixote, to which Sancho replied\"\n",
    "generate = 100\n",
    "top_k = None"
   ],
   "id": "fa2755a7754461fe",
   "outputs": [],
   "execution_count": 4
  },
  {
   "metadata": {
    "ExecuteTime": {
     "end_time": "2024-04-21T09:37:49.323954Z",
     "start_time": "2024-04-21T09:37:10.222059Z"
    }
   },
   "cell_type": "code",
   "source": [
    "print(f\"\\n\\033[91m Prompt:\\033[0m {prompt}\")\n",
    "for temperature in [1.0, 0.8, 0.5, 0.1]:\n",
    "    print(f\"\\n\\033[91m Temperature:\\033[0m {temperature}\")\n",
    "    output = model(prompt, generate=generate, temperature=temperature, top_k=top_k)\n",
    "    print(f\"\\033[91m quixote-large:\\033[0m {output} ...\")"
   ],
   "id": "fa72695106b65b65",
   "outputs": [
    {
     "name": "stdout",
     "output_type": "stream",
     "text": [
      "\n",
      "\u001B[91m Prompt:\u001B[0m “Here is the apple of which I spoke,” said Don Quixote, to which Sancho replied\n",
      "\n",
      "\u001B[91m Temperature:\u001B[0m 1.0\n",
      "\u001B[91m quixote-large:\u001B[0m “Here is the apple of which I spoke,” said Don Quixote, to which Sancho replied Don Quixote of bargain.” “In death. “Dulcinea,” said Sancho, “for I will he were so for all month, and liberty under Rocinante, now in this time, for a heartfelt Dapple without required (for I was or the duchess, but palm of. There is the books that she is no opportunity of hearing the city; and his think that plan be seen a good once, that the king and his power to the rinsings, Sancho; where enchanted love of its Dulcinea del Toboso. ...\n",
      "\n",
      "\u001B[91m Temperature:\u001B[0m 0.8\n",
      "\u001B[91m quixote-large:\u001B[0m “Here is the apple of which I spoke,” said Don Quixote, to which Sancho replied Sancho, “but I am an end of the lady, enemy of the feet, and the peerless Dulcinea are all the other, though there will fall and at least may be no urinary out of some other, the farmer; and you are her meadow which she has ever told him, as well to make up too, of my master had been, I would burn me! For no more must listening to dare to the risk, and he said, I am ‘Give me about to see her, ...\n",
      "\n",
      "\u001B[91m Temperature:\u001B[0m 0.5\n",
      "\u001B[91m quixote-large:\u001B[0m “Here is the apple of which I spoke,” said Don Quixote, to which Sancho replied Don Quixote was to the same time, “I am not only in the ground, or the duke and so little, I am, and the sake of the first, and the old and the ground and the first, and the others; and the duchess has been made a good for the world, as he was that of the one of the others of the world. Don Quixote, I can do not to the time, and his master of those who, and the host of the landlord, and ...\n",
      "\n",
      "\u001B[91m Temperature:\u001B[0m 0.1\n",
      "\u001B[91m quixote-large:\u001B[0m “Here is the apple of which I spoke,” said Don Quixote, to which Sancho replied Don Quixote, “I am a good fortune, and I have been a man, and I have been a great and I have been a great and I have been a good, and I have been a man of the same time to be a little, and I have been a great and I have been a little to the same time to be a good, and I have been a knight, and I have been a good as I am a great and I have been a man of the world. ...\n"
     ]
    }
   ],
   "execution_count": 5
  }
 ],
 "metadata": {
  "kernelspec": {
   "display_name": "Python 3",
   "language": "python",
   "name": "python3"
  },
  "language_info": {
   "codemirror_mode": {
    "name": "ipython",
    "version": 2
   },
   "file_extension": ".py",
   "mimetype": "text/x-python",
   "name": "python",
   "nbconvert_exporter": "python",
   "pygments_lexer": "ipython2",
   "version": "2.7.6"
  }
 },
 "nbformat": 4,
 "nbformat_minor": 5
}
