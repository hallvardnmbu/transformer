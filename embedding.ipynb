{
 "cells": [
  {
   "cell_type": "code",
   "id": "initial_id",
   "metadata": {
    "collapsed": true,
    "ExecuteTime": {
     "end_time": "2024-04-27T10:55:01.085803Z",
     "start_time": "2024-04-27T10:54:59.348297Z"
    }
   },
   "source": [
    "import torch\n",
    "from transformers import GPT2Tokenizer, GPT2Model"
   ],
   "outputs": [],
   "execution_count": 1
  },
  {
   "metadata": {
    "ExecuteTime": {
     "end_time": "2024-04-27T10:55:02.402477Z",
     "start_time": "2024-04-27T10:55:01.086773Z"
    }
   },
   "cell_type": "code",
   "source": [
    "tokenizer = GPT2Tokenizer.from_pretrained('gpt2')\n",
    "tokenizer.pad_token = tokenizer.eos_token\n",
    "model = GPT2Model.from_pretrained('gpt2')"
   ],
   "id": "59b1eb50c24e7611",
   "outputs": [],
   "execution_count": 2
  },
  {
   "metadata": {
    "ExecuteTime": {
     "end_time": "2024-04-27T10:55:02.413152Z",
     "start_time": "2024-04-27T10:55:02.404211Z"
    }
   },
   "cell_type": "code",
   "source": [
    "embedding = {\"man\": None, \"boy\": None, \"teenager\": None, \"girl\": None,\n",
    "             \"a one a two a three\": None, \"!!!\": None}\n",
    "for word in embedding:\n",
    "    ids = tokenizer(word, return_tensors='pt')[\"input_ids\"]\n",
    "    with torch.no_grad():\n",
    "        outs = model.wte(ids).sum(dim=1).flatten()\n",
    "    embedding[word] = outs"
   ],
   "id": "3294a948c351e9fd",
   "outputs": [],
   "execution_count": 3
  },
  {
   "metadata": {
    "ExecuteTime": {
     "end_time": "2024-04-27T10:55:02.417719Z",
     "start_time": "2024-04-27T10:55:02.414513Z"
    }
   },
   "cell_type": "code",
   "source": [
    "def compare(one, two):\n",
    "    sim = torch.nn.functional.cosine_similarity(\n",
    "        one, \n",
    "        two, \n",
    "        dim=0\n",
    "    ).item()\n",
    "    print(f\"{int(sim * 100)} % cosine similarity\")"
   ],
   "id": "ed23a5201a75bbf2",
   "outputs": [],
   "execution_count": 4
  },
  {
   "metadata": {
    "ExecuteTime": {
     "end_time": "2024-04-27T10:55:02.425221Z",
     "start_time": "2024-04-27T10:55:02.419472Z"
    }
   },
   "cell_type": "code",
   "source": "compare(embedding[\"boy\"], embedding[\"girl\"])",
   "id": "fc6c8b387aaaceb0",
   "outputs": [
    {
     "name": "stdout",
     "output_type": "stream",
     "text": [
      "62 % cosine similarity\n"
     ]
    }
   ],
   "execution_count": 5
  },
  {
   "metadata": {
    "ExecuteTime": {
     "end_time": "2024-04-27T10:55:02.427782Z",
     "start_time": "2024-04-27T10:55:02.425962Z"
    }
   },
   "cell_type": "code",
   "source": "compare(embedding[\"man\"], embedding[\"girl\"])",
   "id": "a1d9ee7be71a73a4",
   "outputs": [
    {
     "name": "stdout",
     "output_type": "stream",
     "text": [
      "39 % cosine similarity\n"
     ]
    }
   ],
   "execution_count": 6
  },
  {
   "metadata": {
    "ExecuteTime": {
     "end_time": "2024-04-27T10:55:02.430403Z",
     "start_time": "2024-04-27T10:55:02.428251Z"
    }
   },
   "cell_type": "code",
   "source": "compare(embedding[\"boy\"] + embedding[\"man\"], embedding[\"teenager\"]) ",
   "id": "d6acc6b66c14ed4",
   "outputs": [
    {
     "name": "stdout",
     "output_type": "stream",
     "text": [
      "44 % cosine similarity\n"
     ]
    }
   ],
   "execution_count": 7
  },
  {
   "metadata": {
    "ExecuteTime": {
     "end_time": "2024-04-27T10:55:02.433389Z",
     "start_time": "2024-04-27T10:55:02.431358Z"
    }
   },
   "cell_type": "code",
   "source": "compare(embedding[\"a one a two a three\"], embedding[\"!!!\"])",
   "id": "cef0f216c713f0ae",
   "outputs": [
    {
     "name": "stdout",
     "output_type": "stream",
     "text": [
      "19 % cosine similarity\n"
     ]
    }
   ],
   "execution_count": 8
  }
 ],
 "metadata": {
  "kernelspec": {
   "display_name": "Python 3",
   "language": "python",
   "name": "python3"
  },
  "language_info": {
   "codemirror_mode": {
    "name": "ipython",
    "version": 2
   },
   "file_extension": ".py",
   "mimetype": "text/x-python",
   "name": "python",
   "nbconvert_exporter": "python",
   "pygments_lexer": "ipython2",
   "version": "2.7.6"
  }
 },
 "nbformat": 4,
 "nbformat_minor": 5
}
